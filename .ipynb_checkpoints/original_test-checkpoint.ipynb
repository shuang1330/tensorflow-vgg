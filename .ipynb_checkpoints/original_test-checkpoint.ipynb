{
 "cells": [
  {
   "cell_type": "code",
   "execution_count": 1,
   "metadata": {
    "collapsed": true
   },
   "outputs": [],
   "source": [
    "import numpy as np\n",
    "import tensorflow as tf\n",
    "\n",
    "import vgg16\n",
    "import utils\n",
    "\n",
    "import os\n",
    "os.environ[\"CUDA_DEVICE_ORDER\"]=\"PCI_BUS_ID\"\n",
    "os.environ[\"CUDA_VISIBLE_DEVICES\"]=\"3\"\n",
    "os.environ['TF_CPP_MIN_LOG_LEVEL']='2'\n"
   ]
  },
  {
   "cell_type": "code",
   "execution_count": 4,
   "metadata": {},
   "outputs": [
    {
     "name": "stdout",
     "output_type": "stream",
     "text": [
      "/volume/home/shuang/tensorflow-vgg/vgg16.npy\n",
      "npy file loaded\n",
      "build model started\n",
      "build model finished: 0s\n",
      "[[  4.79957052e-08   2.34233699e-09   2.15902318e-09 ...,   5.57775437e-10\n",
      "    6.42913445e-10   1.12553888e-09]\n",
      " [  2.11244977e-09   3.05561230e-08   5.99497452e-10 ...,   8.55414140e-09\n",
      "    4.74984985e-09   5.29573356e-07]]\n",
      "('Top1: ', 'n02129604 tiger, Panthera tigris', 0.94624609)\n",
      "('Top5: ', [('n02129604 tiger, Panthera tigris', 0.94624609), ('n02123159 tiger cat', 0.03465746), ('n02128925 jaguar, panther, Panthera onca, Felis onca', 0.013711272), ('n02128757 snow leopard, ounce, Panthera uncia', 0.0040105688), ('n02128385 leopard, Panthera pardus', 0.0004874549)])\n",
      "('Top1: ', 'n03598930 jigsaw puzzle', 0.99948007)\n",
      "('Top5: ', [('n03598930 jigsaw puzzle', 0.99948007), ('n03908714 pencil sharpener', 9.5385767e-05), ('n04116512 rubber eraser, rubber, pencil eraser', 8.870411e-05), ('n03908618 pencil box, pencil case', 3.4222041e-05), ('n03476684 hair slide', 3.3792643e-05)])\n"
     ]
    }
   ],
   "source": [
    "img1 = utils.load_image(\"./test/ILSVRC2012_test_00100000.JPEG\")\n",
    "img2 = utils.load_image(\"./test/ILSVRC2012_test_00050000.JPEG\")\n",
    "\n",
    "batch1 = img1.reshape((1, 224, 224, 3))\n",
    "batch2 = img2.reshape((1, 224, 224, 3))\n",
    "\n",
    "batch = np.concatenate((batch1, batch2), 0)\n",
    "\n",
    "tfconfig = tf.ConfigProto(allow_soft_placement=True)\n",
    "tfconfig.gpu_options.allow_growth=True\n",
    "with tf.Session(config=tfconfig) as sess:\n",
    "# with tf.Session(config=tf.ConfigProto(gpu_options=(tf.GPUOptions(per_process_gpu_memory_fraction=0.7)))) as sess:\n",
    "# with tf.device('/cpu:0'):\n",
    "    with tf.Session() as sess:\n",
    "        images = tf.placeholder(\"float\", [2, 224, 224, 3])\n",
    "        feed_dict = {images: batch}\n",
    "\n",
    "        vgg = vgg16.Vgg16()\n",
    "        with tf.name_scope(\"content_vgg\"):\n",
    "            vgg.build(images)\n",
    "\n",
    "        prob = sess.run(vgg.prob, feed_dict=feed_dict)\n",
    "        print(prob)\n",
    "        utils.print_prob(prob[0], './synset.txt')\n",
    "        utils.print_prob(prob[1], './synset.txt')"
   ]
  },
  {
   "cell_type": "code",
   "execution_count": null,
   "metadata": {
    "collapsed": true
   },
   "outputs": [],
   "source": []
  }
 ],
 "metadata": {
  "kernelspec": {
   "display_name": "Python 2",
   "language": "python",
   "name": "python2"
  },
  "language_info": {
   "codemirror_mode": {
    "name": "ipython",
    "version": 2
   },
   "file_extension": ".py",
   "mimetype": "text/x-python",
   "name": "python",
   "nbconvert_exporter": "python",
   "pygments_lexer": "ipython2",
   "version": "2.7.6"
  }
 },
 "nbformat": 4,
 "nbformat_minor": 2
}
