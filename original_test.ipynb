{
 "cells": [
  {
   "cell_type": "code",
   "execution_count": 1,
   "metadata": {
    "collapsed": true
   },
   "outputs": [],
   "source": [
    "import numpy as np\n",
    "import tensorflow as tf\n",
    "\n",
    "import vgg16\n",
    "import utils\n",
    "\n",
    "import os\n",
    "os.environ[\"CUDA_DEVICE_ORDER\"]=\"PCI_BUS_ID\"\n",
    "os.environ[\"CUDA_VISIBLE_DEVICES\"]=\"3\"\n",
    "os.environ['TF_CPP_MIN_LOG_LEVEL']='2'\n"
   ]
  },
  {
   "cell_type": "code",
   "execution_count": 2,
   "metadata": {},
   "outputs": [
    {
     "name": "stdout",
     "output_type": "stream",
     "text": [
      "/volume/home/shuang/tensorflow-vgg/vgg16.npy\n",
      "npy file loaded\n",
      "build model started\n",
      "build model finished: 0s\n",
      "[[  8.00672933e-05   5.50928803e-07   4.78067841e-06 ...,   1.28030908e-04\n",
      "    9.59809331e-05   6.10133829e-05]\n",
      " [  1.21443910e-10   1.78372800e-12   5.76291055e-12 ...,   3.34102798e-12\n",
      "    3.20762375e-11   2.32051031e-10]]\n",
      "('Top1: ', 'n07714571 head cabbage', 0.53268921)\n",
      "('Top5: ', [('n07714571 head cabbage', 0.53268921), ('n01768244 trilobite', 0.14509319), ('n04235860 sleeping bag', 0.11679254), ('n07715103 cauliflower', 0.042804349), ('n07760859 custard apple', 0.023419578)])\n",
      "('Top1: ', 'n02749479 assault rifle, assault gun', 0.60819137)\n",
      "('Top5: ', [('n02749479 assault rifle, assault gun', 0.60819137), ('n04090263 rifle', 0.39121485), ('n04086273 revolver, six-gun, six-shooter', 0.00051649939), ('n02879718 bow', 2.0886908e-05), ('n03527444 holster', 1.8731833e-05)])\n"
     ]
    }
   ],
   "source": [
    "img1 = utils.load_image(\"./test/ILSVRC2012_test_00100000.JPEG\")\n",
    "img2 = utils.load_image(\"./test/ILSVRC2012_test_00050000.JPEG\")\n",
    "\n",
    "batch1 = img1.reshape((1, 224, 224, 3))\n",
    "batch2 = img2.reshape((1, 224, 224, 3))\n",
    "\n",
    "batch = np.concatenate((batch1, batch2), 0)\n",
    "\n",
    "tfconfig = tf.ConfigProto(allow_soft_placement=True)\n",
    "tfconfig.gpu_options.allow_growth=True\n",
    "with tf.Session(config=tfconfig) as sess:\n",
    "# with tf.Session(config=tf.ConfigProto(gpu_options=(tf.GPUOptions(per_process_gpu_memory_fraction=0.7)))) as sess:\n",
    "# with tf.device('/cpu:0'):\n",
    "    with tf.Session() as sess:\n",
    "        images = tf.placeholder(\"float\", [2, 224, 224, 3])\n",
    "        feed_dict = {images: batch}\n",
    "\n",
    "        vgg = vgg16.Vgg16()\n",
    "        with tf.name_scope(\"content_vgg\"):\n",
    "            vgg.build(images)\n",
    "\n",
    "        prob = sess.run(vgg.prob, feed_dict=feed_dict)\n",
    "        print(prob)\n",
    "        utils.print_prob(prob[0], './synset.txt')\n",
    "        utils.print_prob(prob[1], './synset.txt')"
   ]
  },
  {
   "cell_type": "code",
   "execution_count": null,
   "metadata": {
    "collapsed": true
   },
   "outputs": [],
   "source": []
  }
 ],
 "metadata": {
  "kernelspec": {
   "display_name": "Python 2",
   "language": "python",
   "name": "python2"
  },
  "language_info": {
   "codemirror_mode": {
    "name": "ipython",
    "version": 2
   },
   "file_extension": ".py",
   "mimetype": "text/x-python",
   "name": "python",
   "nbconvert_exporter": "python",
   "pygments_lexer": "ipython2",
   "version": "2.7.6"
  }
 },
 "nbformat": 4,
 "nbformat_minor": 2
}
